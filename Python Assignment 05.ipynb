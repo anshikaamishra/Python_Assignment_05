{
 "cells": [
  {
   "cell_type": "markdown",
   "id": "4b172545-5dbc-4a41-9378-543e5eca5967",
   "metadata": {},
   "source": [
    "## Python Assignment 05 ##"
   ]
  },
  {
   "cell_type": "markdown",
   "id": "a4c871f8-d065-41a0-921b-d73789e43c16",
   "metadata": {},
   "source": [
    "**Q1. Create a python program to sort the given list of tuples based on integer value using a  lambda function.**\n",
    "**[('Sachin Tendulkar', 34357), ('Ricky Ponting', 27483), ('Jack Kallis', 25534), ('Virat Kohli', 24936)]**"
   ]
  },
  {
   "cell_type": "code",
   "execution_count": 7,
   "id": "8b9af670-467e-41b1-8f64-d14ff1736dbd",
   "metadata": {},
   "outputs": [
    {
     "name": "stdout",
     "output_type": "stream",
     "text": [
      "[('Sachin Tendulkar', 34357), ('Ricky Ponting', 27483), ('Jack Kallis', 25534), ('Virat Kohli', 24936)]\n"
     ]
    }
   ],
   "source": [
    "l = [('Sachin Tendulkar', 34357), ('Ricky Ponting', 27483), ('Jack Kallis', 25534), ('Virat Kohli', 24936)]\n",
    "\n",
    "sort = sorted(l, key = lambda x : x[1], reverse = True)\n",
    "\n",
    "print(sort)"
   ]
  },
  {
   "cell_type": "markdown",
   "id": "575083c0-7334-42bc-92b3-edc2d2bbb4ff",
   "metadata": {},
   "source": [
    "**Q2. Write a Python Program to find the squares of all the numbers in the given list of integers using  lambda and map functions. \n",
    "[1, 2, 3, 4, 5, 6, 7, 8, 9, 10]**"
   ]
  },
  {
   "cell_type": "code",
   "execution_count": 13,
   "id": "562f76dd-2925-4bef-b536-249f48509468",
   "metadata": {},
   "outputs": [
    {
     "name": "stdout",
     "output_type": "stream",
     "text": [
      "[1, 4, 9, 16, 25, 36, 49, 64, 81, 100]\n"
     ]
    }
   ],
   "source": [
    "# program to find the squares of all the numbers\n",
    "\n",
    "l = [1, 2, 3, 4, 5, 6, 7, 8, 9, 10]\n",
    "\n",
    "sq = list(map(lambda x : x**2, l))\n",
    "\n",
    "print(sq)"
   ]
  },
  {
   "cell_type": "markdown",
   "id": "5a52b2ec-6324-44f1-8581-5a8bd0351b1c",
   "metadata": {},
   "source": [
    "**Q3. Write a python program to convert the given list of integers into a tuple of strings. Use map and  lambda functions** \n",
    "**Given String: [1, 2, 3, 4, 5, 6, 7, 8, 9, 10]** \n",
    "**Expected output: ('1', '2', '3', '4', '5', '6', '7', '8', '9', '10')**"
   ]
  },
  {
   "cell_type": "code",
   "execution_count": 16,
   "id": "23d6644f-23c0-4ecd-a920-13473fe18ac8",
   "metadata": {},
   "outputs": [
    {
     "name": "stdout",
     "output_type": "stream",
     "text": [
      "('1', '2', '3', '4', '5', '6', '7', '8', '9', '10')\n"
     ]
    }
   ],
   "source": [
    "# Program to convert the given list of integers into a tuple of strings\n",
    "\n",
    "l1 = [1, 2, 3, 4, 5, 6, 7, 8, 9, 10]\n",
    "\n",
    "string = tuple(map(lambda x : str(x), l1))\n",
    "\n",
    "print(string)"
   ]
  },
  {
   "cell_type": "markdown",
   "id": "1323d392-c0bc-4b07-9b13-74d08e3a6b5d",
   "metadata": {},
   "source": [
    "**Q4.  Write a python program using reduce function to compute the product of a list containing numbers  from 1 to 25.**"
   ]
  },
  {
   "cell_type": "code",
   "execution_count": 17,
   "id": "f2044f5e-0d81-48f9-a855-872112df3425",
   "metadata": {},
   "outputs": [],
   "source": [
    "from functools import reduce"
   ]
  },
  {
   "cell_type": "code",
   "execution_count": 19,
   "id": "dfb41d8c-7643-45ad-88c5-a8e13767c5e0",
   "metadata": {},
   "outputs": [
    {
     "name": "stdout",
     "output_type": "stream",
     "text": [
      "[1, 2, 3, 4, 5, 6, 7, 8, 9, 10, 11, 12, 13, 14, 15, 16, 17, 18, 19, 20, 21, 22, 23, 24, 25]\n"
     ]
    }
   ],
   "source": [
    "# List containing numbers from 1 to 25.\n",
    "\n",
    "l = []\n",
    "for i in range(1, 26):\n",
    "    l.append(i)\n",
    "print(l)"
   ]
  },
  {
   "cell_type": "code",
   "execution_count": 22,
   "id": "f31d30c9-533b-43e7-a72b-0ee97d9900ab",
   "metadata": {},
   "outputs": [
    {
     "name": "stdout",
     "output_type": "stream",
     "text": [
      "15511210043330985984000000\n"
     ]
    }
   ],
   "source": [
    "# reduce function to compute the product of a list\n",
    "\n",
    "product = reduce((lambda x, y : x*y), l)\n",
    "\n",
    "print(product)"
   ]
  },
  {
   "cell_type": "markdown",
   "id": "995c13a4-34ad-4dce-bea2-064e611bb7d6",
   "metadata": {},
   "source": [
    "**Q5. Write a python program to filter the numbers in a given list that are divisible by 2 and 3 using the  filter function. \n",
    "[2, 3, 6, 9, 27, 60, 90, 120, 55, 46]**"
   ]
  },
  {
   "cell_type": "code",
   "execution_count": 24,
   "id": "0435c6a7-0ec6-4dfb-9113-f3502d3ad38c",
   "metadata": {},
   "outputs": [
    {
     "name": "stdout",
     "output_type": "stream",
     "text": [
      "[6, 60, 90, 120]\n"
     ]
    }
   ],
   "source": [
    "# Program to filter the numbers in a given list that are divisible by 2 and 3 using the filter function\n",
    "\n",
    "l2 = [2, 3, 6, 9, 27, 60, 90, 120, 55, 46]\n",
    "\n",
    "divisible = list(filter(lambda x : x%2 == 0 and x%3 == 0, l2))\n",
    "\n",
    "print(divisible)"
   ]
  },
  {
   "cell_type": "markdown",
   "id": "ff8b6b7b-0ede-4229-adbd-0568403fb174",
   "metadata": {},
   "source": [
    "**Q6. Write a python program to find palindromes in the given list of strings using lambda and filter  function. \n",
    "['python', 'php', 'aba', 'radar', 'level']**"
   ]
  },
  {
   "cell_type": "code",
   "execution_count": 25,
   "id": "2d7582fa-be20-464b-abfd-245c8d43c0f8",
   "metadata": {},
   "outputs": [
    {
     "name": "stdout",
     "output_type": "stream",
     "text": [
      "['php', 'aba', 'radar', 'level']\n"
     ]
    }
   ],
   "source": [
    "# program to find palindromes in the given list of strings using lambda and filter function\n",
    "\n",
    "l3 = ['python', 'php', 'aba', 'radar', 'level']\n",
    "\n",
    "palin = list(filter(lambda x : x == x[::-1], l3))\n",
    "\n",
    "print(palin)"
   ]
  },
  {
   "cell_type": "code",
   "execution_count": null,
   "id": "77df42f8-0ddc-4838-9ca6-607e6968219a",
   "metadata": {},
   "outputs": [],
   "source": []
  }
 ],
 "metadata": {
  "kernelspec": {
   "display_name": "Python 3 (ipykernel)",
   "language": "python",
   "name": "python3"
  },
  "language_info": {
   "codemirror_mode": {
    "name": "ipython",
    "version": 3
   },
   "file_extension": ".py",
   "mimetype": "text/x-python",
   "name": "python",
   "nbconvert_exporter": "python",
   "pygments_lexer": "ipython3",
   "version": "3.10.8"
  }
 },
 "nbformat": 4,
 "nbformat_minor": 5
}
